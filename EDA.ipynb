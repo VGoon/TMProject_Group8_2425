{
 "cells": [
  {
   "cell_type": "code",
   "execution_count": 1,
   "id": "04205f82",
   "metadata": {},
   "outputs": [],
   "source": [
    "import pandas as pd\n",
    "import numpy as np\n",
    "import matplotlib.pyplot as plt\n",
    "import seaborn as sns\n",
    "from wordcloud import WordCloud"
   ]
  },
  {
   "cell_type": "code",
   "execution_count": null,
   "id": "956cc908",
   "metadata": {},
   "outputs": [],
   "source": [
    "df_train = pd.read_csv('.csv')\n",
    "df_test = pd.read_csv('.csv')"
   ]
  },
  {
   "cell_type": "code",
   "execution_count": null,
   "id": "bac7917a",
   "metadata": {},
   "outputs": [],
   "source": [
    "df_train.head(5)"
   ]
  }
 ],
 "metadata": {
  "kernelspec": {
   "display_name": "Python 3",
   "language": "python",
   "name": "python3"
  },
  "language_info": {
   "codemirror_mode": {
    "name": "ipython",
    "version": 3
   },
   "file_extension": ".py",
   "mimetype": "text/x-python",
   "name": "python",
   "nbconvert_exporter": "python",
   "pygments_lexer": "ipython3",
   "version": "3.12.3"
  }
 },
 "nbformat": 4,
 "nbformat_minor": 5
}
